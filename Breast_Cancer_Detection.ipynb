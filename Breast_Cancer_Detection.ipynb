{
  "nbformat": 4,
  "nbformat_minor": 0,
  "metadata": {
    "colab": {
      "name": "Breast_Cancer_Detection.ipynb",
      "provenance": []
    },
    "kernelspec": {
      "name": "python3",
      "display_name": "Python 3"
    },
    "language_info": {
      "name": "python"
    }
  },
  "cells": [
    {
      "cell_type": "code",
      "metadata": {
        "id": "7hmYxeYDa7Vl"
      },
      "source": [
        "import pandas as pd\n",
        "import numpy as np\n",
        "\n",
        "from sklearn.datasets import load_breast_cancer\n",
        "from sklearn.preprocessing import StandardScaler\n",
        "from sklearn.model_selection import train_test_split\n",
        "\n",
        "from keras.models import Sequential\n",
        "from keras.layers import Dense"
      ],
      "execution_count": 13,
      "outputs": []
    },
    {
      "cell_type": "code",
      "metadata": {
        "id": "F_kdOY3Lblfk"
      },
      "source": [
        "data = load_breast_cancer()"
      ],
      "execution_count": 3,
      "outputs": []
    },
    {
      "cell_type": "code",
      "metadata": {
        "colab": {
          "base_uri": "https://localhost:8080/"
        },
        "id": "3BVhETAIesrw",
        "outputId": "6bd125f9-e83d-42ae-8a7f-d9e31a320942"
      },
      "source": [
        "data"
      ],
      "execution_count": 19,
      "outputs": [
        {
          "output_type": "execute_result",
          "data": {
            "text/plain": [
              "{'DESCR': '.. _breast_cancer_dataset:\\n\\nBreast cancer wisconsin (diagnostic) dataset\\n--------------------------------------------\\n\\n**Data Set Characteristics:**\\n\\n    :Number of Instances: 569\\n\\n    :Number of Attributes: 30 numeric, predictive attributes and the class\\n\\n    :Attribute Information:\\n        - radius (mean of distances from center to points on the perimeter)\\n        - texture (standard deviation of gray-scale values)\\n        - perimeter\\n        - area\\n        - smoothness (local variation in radius lengths)\\n        - compactness (perimeter^2 / area - 1.0)\\n        - concavity (severity of concave portions of the contour)\\n        - concave points (number of concave portions of the contour)\\n        - symmetry \\n        - fractal dimension (\"coastline approximation\" - 1)\\n\\n        The mean, standard error, and \"worst\" or largest (mean of the three\\n        largest values) of these features were computed for each image,\\n        resulting in 30 features.  For instance, field 3 is Mean Radius, field\\n        13 is Radius SE, field 23 is Worst Radius.\\n\\n        - class:\\n                - WDBC-Malignant\\n                - WDBC-Benign\\n\\n    :Summary Statistics:\\n\\n    ===================================== ====== ======\\n                                           Min    Max\\n    ===================================== ====== ======\\n    radius (mean):                        6.981  28.11\\n    texture (mean):                       9.71   39.28\\n    perimeter (mean):                     43.79  188.5\\n    area (mean):                          143.5  2501.0\\n    smoothness (mean):                    0.053  0.163\\n    compactness (mean):                   0.019  0.345\\n    concavity (mean):                     0.0    0.427\\n    concave points (mean):                0.0    0.201\\n    symmetry (mean):                      0.106  0.304\\n    fractal dimension (mean):             0.05   0.097\\n    radius (standard error):              0.112  2.873\\n    texture (standard error):             0.36   4.885\\n    perimeter (standard error):           0.757  21.98\\n    area (standard error):                6.802  542.2\\n    smoothness (standard error):          0.002  0.031\\n    compactness (standard error):         0.002  0.135\\n    concavity (standard error):           0.0    0.396\\n    concave points (standard error):      0.0    0.053\\n    symmetry (standard error):            0.008  0.079\\n    fractal dimension (standard error):   0.001  0.03\\n    radius (worst):                       7.93   36.04\\n    texture (worst):                      12.02  49.54\\n    perimeter (worst):                    50.41  251.2\\n    area (worst):                         185.2  4254.0\\n    smoothness (worst):                   0.071  0.223\\n    compactness (worst):                  0.027  1.058\\n    concavity (worst):                    0.0    1.252\\n    concave points (worst):               0.0    0.291\\n    symmetry (worst):                     0.156  0.664\\n    fractal dimension (worst):            0.055  0.208\\n    ===================================== ====== ======\\n\\n    :Missing Attribute Values: None\\n\\n    :Class Distribution: 212 - Malignant, 357 - Benign\\n\\n    :Creator:  Dr. William H. Wolberg, W. Nick Street, Olvi L. Mangasarian\\n\\n    :Donor: Nick Street\\n\\n    :Date: November, 1995\\n\\nThis is a copy of UCI ML Breast Cancer Wisconsin (Diagnostic) datasets.\\nhttps://goo.gl/U2Uwz2\\n\\nFeatures are computed from a digitized image of a fine needle\\naspirate (FNA) of a breast mass.  They describe\\ncharacteristics of the cell nuclei present in the image.\\n\\nSeparating plane described above was obtained using\\nMultisurface Method-Tree (MSM-T) [K. P. Bennett, \"Decision Tree\\nConstruction Via Linear Programming.\" Proceedings of the 4th\\nMidwest Artificial Intelligence and Cognitive Science Society,\\npp. 97-101, 1992], a classification method which uses linear\\nprogramming to construct a decision tree.  Relevant features\\nwere selected using an exhaustive search in the space of 1-4\\nfeatures and 1-3 separating planes.\\n\\nThe actual linear program used to obtain the separating plane\\nin the 3-dimensional space is that described in:\\n[K. P. Bennett and O. L. Mangasarian: \"Robust Linear\\nProgramming Discrimination of Two Linearly Inseparable Sets\",\\nOptimization Methods and Software 1, 1992, 23-34].\\n\\nThis database is also available through the UW CS ftp server:\\n\\nftp ftp.cs.wisc.edu\\ncd math-prog/cpo-dataset/machine-learn/WDBC/\\n\\n.. topic:: References\\n\\n   - W.N. Street, W.H. Wolberg and O.L. Mangasarian. Nuclear feature extraction \\n     for breast tumor diagnosis. IS&T/SPIE 1993 International Symposium on \\n     Electronic Imaging: Science and Technology, volume 1905, pages 861-870,\\n     San Jose, CA, 1993.\\n   - O.L. Mangasarian, W.N. Street and W.H. Wolberg. Breast cancer diagnosis and \\n     prognosis via linear programming. Operations Research, 43(4), pages 570-577, \\n     July-August 1995.\\n   - W.H. Wolberg, W.N. Street, and O.L. Mangasarian. Machine learning techniques\\n     to diagnose breast cancer from fine-needle aspirates. Cancer Letters 77 (1994) \\n     163-171.',\n",
              " 'data': array([[1.799e+01, 1.038e+01, 1.228e+02, ..., 2.654e-01, 4.601e-01,\n",
              "         1.189e-01],\n",
              "        [2.057e+01, 1.777e+01, 1.329e+02, ..., 1.860e-01, 2.750e-01,\n",
              "         8.902e-02],\n",
              "        [1.969e+01, 2.125e+01, 1.300e+02, ..., 2.430e-01, 3.613e-01,\n",
              "         8.758e-02],\n",
              "        ...,\n",
              "        [1.660e+01, 2.808e+01, 1.083e+02, ..., 1.418e-01, 2.218e-01,\n",
              "         7.820e-02],\n",
              "        [2.060e+01, 2.933e+01, 1.401e+02, ..., 2.650e-01, 4.087e-01,\n",
              "         1.240e-01],\n",
              "        [7.760e+00, 2.454e+01, 4.792e+01, ..., 0.000e+00, 2.871e-01,\n",
              "         7.039e-02]]),\n",
              " 'feature_names': array(['mean radius', 'mean texture', 'mean perimeter', 'mean area',\n",
              "        'mean smoothness', 'mean compactness', 'mean concavity',\n",
              "        'mean concave points', 'mean symmetry', 'mean fractal dimension',\n",
              "        'radius error', 'texture error', 'perimeter error', 'area error',\n",
              "        'smoothness error', 'compactness error', 'concavity error',\n",
              "        'concave points error', 'symmetry error',\n",
              "        'fractal dimension error', 'worst radius', 'worst texture',\n",
              "        'worst perimeter', 'worst area', 'worst smoothness',\n",
              "        'worst compactness', 'worst concavity', 'worst concave points',\n",
              "        'worst symmetry', 'worst fractal dimension'], dtype='<U23'),\n",
              " 'filename': '/usr/local/lib/python3.7/dist-packages/sklearn/datasets/data/breast_cancer.csv',\n",
              " 'target': array([0, 0, 0, 0, 0, 0, 0, 0, 0, 0, 0, 0, 0, 0, 0, 0, 0, 0, 0, 1, 1, 1,\n",
              "        0, 0, 0, 0, 0, 0, 0, 0, 0, 0, 0, 0, 0, 0, 0, 1, 0, 0, 0, 0, 0, 0,\n",
              "        0, 0, 1, 0, 1, 1, 1, 1, 1, 0, 0, 1, 0, 0, 1, 1, 1, 1, 0, 1, 0, 0,\n",
              "        1, 1, 1, 1, 0, 1, 0, 0, 1, 0, 1, 0, 0, 1, 1, 1, 0, 0, 1, 0, 0, 0,\n",
              "        1, 1, 1, 0, 1, 1, 0, 0, 1, 1, 1, 0, 0, 1, 1, 1, 1, 0, 1, 1, 0, 1,\n",
              "        1, 1, 1, 1, 1, 1, 1, 0, 0, 0, 1, 0, 0, 1, 1, 1, 0, 0, 1, 0, 1, 0,\n",
              "        0, 1, 0, 0, 1, 1, 0, 1, 1, 0, 1, 1, 1, 1, 0, 1, 1, 1, 1, 1, 1, 1,\n",
              "        1, 1, 0, 1, 1, 1, 1, 0, 0, 1, 0, 1, 1, 0, 0, 1, 1, 0, 0, 1, 1, 1,\n",
              "        1, 0, 1, 1, 0, 0, 0, 1, 0, 1, 0, 1, 1, 1, 0, 1, 1, 0, 0, 1, 0, 0,\n",
              "        0, 0, 1, 0, 0, 0, 1, 0, 1, 0, 1, 1, 0, 1, 0, 0, 0, 0, 1, 1, 0, 0,\n",
              "        1, 1, 1, 0, 1, 1, 1, 1, 1, 0, 0, 1, 1, 0, 1, 1, 0, 0, 1, 0, 1, 1,\n",
              "        1, 1, 0, 1, 1, 1, 1, 1, 0, 1, 0, 0, 0, 0, 0, 0, 0, 0, 0, 0, 0, 0,\n",
              "        0, 0, 1, 1, 1, 1, 1, 1, 0, 1, 0, 1, 1, 0, 1, 1, 0, 1, 0, 0, 1, 1,\n",
              "        1, 1, 1, 1, 1, 1, 1, 1, 1, 1, 1, 0, 1, 1, 0, 1, 0, 1, 1, 1, 1, 1,\n",
              "        1, 1, 1, 1, 1, 1, 1, 1, 1, 0, 1, 1, 1, 0, 1, 0, 1, 1, 1, 1, 0, 0,\n",
              "        0, 1, 1, 1, 1, 0, 1, 0, 1, 0, 1, 1, 1, 0, 1, 1, 1, 1, 1, 1, 1, 0,\n",
              "        0, 0, 1, 1, 1, 1, 1, 1, 1, 1, 1, 1, 1, 0, 0, 1, 0, 0, 0, 1, 0, 0,\n",
              "        1, 1, 1, 1, 1, 0, 1, 1, 1, 1, 1, 0, 1, 1, 1, 0, 1, 1, 0, 0, 1, 1,\n",
              "        1, 1, 1, 1, 0, 1, 1, 1, 1, 1, 1, 1, 0, 1, 1, 1, 1, 1, 0, 1, 1, 0,\n",
              "        1, 1, 1, 1, 1, 1, 1, 1, 1, 1, 1, 1, 0, 1, 0, 0, 1, 0, 1, 1, 1, 1,\n",
              "        1, 0, 1, 1, 0, 1, 0, 1, 1, 0, 1, 0, 1, 1, 1, 1, 1, 1, 1, 1, 0, 0,\n",
              "        1, 1, 1, 1, 1, 1, 0, 1, 1, 1, 1, 1, 1, 1, 1, 1, 1, 0, 1, 1, 1, 1,\n",
              "        1, 1, 1, 0, 1, 0, 1, 1, 0, 1, 1, 1, 1, 1, 0, 0, 1, 0, 1, 0, 1, 1,\n",
              "        1, 1, 1, 0, 1, 1, 0, 1, 0, 1, 0, 0, 1, 1, 1, 0, 1, 1, 1, 1, 1, 1,\n",
              "        1, 1, 1, 1, 1, 0, 1, 0, 0, 1, 1, 1, 1, 1, 1, 1, 1, 1, 1, 1, 1, 1,\n",
              "        1, 1, 1, 1, 1, 1, 1, 1, 1, 1, 1, 1, 0, 0, 0, 0, 0, 0, 1]),\n",
              " 'target_names': array(['malignant', 'benign'], dtype='<U9')}"
            ]
          },
          "metadata": {},
          "execution_count": 19
        }
      ]
    },
    {
      "cell_type": "code",
      "metadata": {
        "colab": {
          "base_uri": "https://localhost:8080/"
        },
        "id": "5ty2OuaSbqW2",
        "outputId": "e3353912-d25f-4d01-ba89-c3c67e8c21c9"
      },
      "source": [
        "data.keys()"
      ],
      "execution_count": 4,
      "outputs": [
        {
          "output_type": "execute_result",
          "data": {
            "text/plain": [
              "dict_keys(['data', 'target', 'target_names', 'DESCR', 'feature_names', 'filename'])"
            ]
          },
          "metadata": {},
          "execution_count": 4
        }
      ]
    },
    {
      "cell_type": "code",
      "metadata": {
        "colab": {
          "base_uri": "https://localhost:8080/"
        },
        "id": "u8ccIo3dbyRp",
        "outputId": "c59508eb-8a9f-4f9a-f5fd-8a3c5ad77e86"
      },
      "source": [
        "print(data['DESCR'])"
      ],
      "execution_count": 5,
      "outputs": [
        {
          "output_type": "stream",
          "name": "stdout",
          "text": [
            ".. _breast_cancer_dataset:\n",
            "\n",
            "Breast cancer wisconsin (diagnostic) dataset\n",
            "--------------------------------------------\n",
            "\n",
            "**Data Set Characteristics:**\n",
            "\n",
            "    :Number of Instances: 569\n",
            "\n",
            "    :Number of Attributes: 30 numeric, predictive attributes and the class\n",
            "\n",
            "    :Attribute Information:\n",
            "        - radius (mean of distances from center to points on the perimeter)\n",
            "        - texture (standard deviation of gray-scale values)\n",
            "        - perimeter\n",
            "        - area\n",
            "        - smoothness (local variation in radius lengths)\n",
            "        - compactness (perimeter^2 / area - 1.0)\n",
            "        - concavity (severity of concave portions of the contour)\n",
            "        - concave points (number of concave portions of the contour)\n",
            "        - symmetry \n",
            "        - fractal dimension (\"coastline approximation\" - 1)\n",
            "\n",
            "        The mean, standard error, and \"worst\" or largest (mean of the three\n",
            "        largest values) of these features were computed for each image,\n",
            "        resulting in 30 features.  For instance, field 3 is Mean Radius, field\n",
            "        13 is Radius SE, field 23 is Worst Radius.\n",
            "\n",
            "        - class:\n",
            "                - WDBC-Malignant\n",
            "                - WDBC-Benign\n",
            "\n",
            "    :Summary Statistics:\n",
            "\n",
            "    ===================================== ====== ======\n",
            "                                           Min    Max\n",
            "    ===================================== ====== ======\n",
            "    radius (mean):                        6.981  28.11\n",
            "    texture (mean):                       9.71   39.28\n",
            "    perimeter (mean):                     43.79  188.5\n",
            "    area (mean):                          143.5  2501.0\n",
            "    smoothness (mean):                    0.053  0.163\n",
            "    compactness (mean):                   0.019  0.345\n",
            "    concavity (mean):                     0.0    0.427\n",
            "    concave points (mean):                0.0    0.201\n",
            "    symmetry (mean):                      0.106  0.304\n",
            "    fractal dimension (mean):             0.05   0.097\n",
            "    radius (standard error):              0.112  2.873\n",
            "    texture (standard error):             0.36   4.885\n",
            "    perimeter (standard error):           0.757  21.98\n",
            "    area (standard error):                6.802  542.2\n",
            "    smoothness (standard error):          0.002  0.031\n",
            "    compactness (standard error):         0.002  0.135\n",
            "    concavity (standard error):           0.0    0.396\n",
            "    concave points (standard error):      0.0    0.053\n",
            "    symmetry (standard error):            0.008  0.079\n",
            "    fractal dimension (standard error):   0.001  0.03\n",
            "    radius (worst):                       7.93   36.04\n",
            "    texture (worst):                      12.02  49.54\n",
            "    perimeter (worst):                    50.41  251.2\n",
            "    area (worst):                         185.2  4254.0\n",
            "    smoothness (worst):                   0.071  0.223\n",
            "    compactness (worst):                  0.027  1.058\n",
            "    concavity (worst):                    0.0    1.252\n",
            "    concave points (worst):               0.0    0.291\n",
            "    symmetry (worst):                     0.156  0.664\n",
            "    fractal dimension (worst):            0.055  0.208\n",
            "    ===================================== ====== ======\n",
            "\n",
            "    :Missing Attribute Values: None\n",
            "\n",
            "    :Class Distribution: 212 - Malignant, 357 - Benign\n",
            "\n",
            "    :Creator:  Dr. William H. Wolberg, W. Nick Street, Olvi L. Mangasarian\n",
            "\n",
            "    :Donor: Nick Street\n",
            "\n",
            "    :Date: November, 1995\n",
            "\n",
            "This is a copy of UCI ML Breast Cancer Wisconsin (Diagnostic) datasets.\n",
            "https://goo.gl/U2Uwz2\n",
            "\n",
            "Features are computed from a digitized image of a fine needle\n",
            "aspirate (FNA) of a breast mass.  They describe\n",
            "characteristics of the cell nuclei present in the image.\n",
            "\n",
            "Separating plane described above was obtained using\n",
            "Multisurface Method-Tree (MSM-T) [K. P. Bennett, \"Decision Tree\n",
            "Construction Via Linear Programming.\" Proceedings of the 4th\n",
            "Midwest Artificial Intelligence and Cognitive Science Society,\n",
            "pp. 97-101, 1992], a classification method which uses linear\n",
            "programming to construct a decision tree.  Relevant features\n",
            "were selected using an exhaustive search in the space of 1-4\n",
            "features and 1-3 separating planes.\n",
            "\n",
            "The actual linear program used to obtain the separating plane\n",
            "in the 3-dimensional space is that described in:\n",
            "[K. P. Bennett and O. L. Mangasarian: \"Robust Linear\n",
            "Programming Discrimination of Two Linearly Inseparable Sets\",\n",
            "Optimization Methods and Software 1, 1992, 23-34].\n",
            "\n",
            "This database is also available through the UW CS ftp server:\n",
            "\n",
            "ftp ftp.cs.wisc.edu\n",
            "cd math-prog/cpo-dataset/machine-learn/WDBC/\n",
            "\n",
            ".. topic:: References\n",
            "\n",
            "   - W.N. Street, W.H. Wolberg and O.L. Mangasarian. Nuclear feature extraction \n",
            "     for breast tumor diagnosis. IS&T/SPIE 1993 International Symposium on \n",
            "     Electronic Imaging: Science and Technology, volume 1905, pages 861-870,\n",
            "     San Jose, CA, 1993.\n",
            "   - O.L. Mangasarian, W.N. Street and W.H. Wolberg. Breast cancer diagnosis and \n",
            "     prognosis via linear programming. Operations Research, 43(4), pages 570-577, \n",
            "     July-August 1995.\n",
            "   - W.H. Wolberg, W.N. Street, and O.L. Mangasarian. Machine learning techniques\n",
            "     to diagnose breast cancer from fine-needle aspirates. Cancer Letters 77 (1994) \n",
            "     163-171.\n"
          ]
        }
      ]
    },
    {
      "cell_type": "code",
      "metadata": {
        "colab": {
          "base_uri": "https://localhost:8080/"
        },
        "id": "kojqoxJRb8Zu",
        "outputId": "5bd09f43-02c7-4191-ccb0-b2d20d53ac3d"
      },
      "source": [
        "data['data'].shape"
      ],
      "execution_count": 6,
      "outputs": [
        {
          "output_type": "execute_result",
          "data": {
            "text/plain": [
              "(569, 30)"
            ]
          },
          "metadata": {},
          "execution_count": 6
        }
      ]
    },
    {
      "cell_type": "code",
      "metadata": {
        "colab": {
          "base_uri": "https://localhost:8080/"
        },
        "id": "w_XawCRjcChP",
        "outputId": "06087ab3-2d58-4246-e174-82fd6f9b3ea6"
      },
      "source": [
        "data['feature_names']"
      ],
      "execution_count": 7,
      "outputs": [
        {
          "output_type": "execute_result",
          "data": {
            "text/plain": [
              "array(['mean radius', 'mean texture', 'mean perimeter', 'mean area',\n",
              "       'mean smoothness', 'mean compactness', 'mean concavity',\n",
              "       'mean concave points', 'mean symmetry', 'mean fractal dimension',\n",
              "       'radius error', 'texture error', 'perimeter error', 'area error',\n",
              "       'smoothness error', 'compactness error', 'concavity error',\n",
              "       'concave points error', 'symmetry error',\n",
              "       'fractal dimension error', 'worst radius', 'worst texture',\n",
              "       'worst perimeter', 'worst area', 'worst smoothness',\n",
              "       'worst compactness', 'worst concavity', 'worst concave points',\n",
              "       'worst symmetry', 'worst fractal dimension'], dtype='<U23')"
            ]
          },
          "metadata": {},
          "execution_count": 7
        }
      ]
    },
    {
      "cell_type": "code",
      "metadata": {
        "colab": {
          "base_uri": "https://localhost:8080/"
        },
        "id": "x1BTQuQMcQSw",
        "outputId": "d28de597-006b-41b4-a329-e666f4b7c56d"
      },
      "source": [
        "data['target_names']"
      ],
      "execution_count": 8,
      "outputs": [
        {
          "output_type": "execute_result",
          "data": {
            "text/plain": [
              "array(['malignant', 'benign'], dtype='<U9')"
            ]
          },
          "metadata": {},
          "execution_count": 8
        }
      ]
    },
    {
      "cell_type": "code",
      "metadata": {
        "colab": {
          "base_uri": "https://localhost:8080/"
        },
        "id": "8WTxyVD7eUBr",
        "outputId": "345600fe-0068-4861-f51a-ef5c5bcb1ed5"
      },
      "source": [
        "feature = data['data']\n",
        "feature"
      ],
      "execution_count": 18,
      "outputs": [
        {
          "output_type": "execute_result",
          "data": {
            "text/plain": [
              "array([[1.799e+01, 1.038e+01, 1.228e+02, ..., 2.654e-01, 4.601e-01,\n",
              "        1.189e-01],\n",
              "       [2.057e+01, 1.777e+01, 1.329e+02, ..., 1.860e-01, 2.750e-01,\n",
              "        8.902e-02],\n",
              "       [1.969e+01, 2.125e+01, 1.300e+02, ..., 2.430e-01, 3.613e-01,\n",
              "        8.758e-02],\n",
              "       ...,\n",
              "       [1.660e+01, 2.808e+01, 1.083e+02, ..., 1.418e-01, 2.218e-01,\n",
              "        7.820e-02],\n",
              "       [2.060e+01, 2.933e+01, 1.401e+02, ..., 2.650e-01, 4.087e-01,\n",
              "        1.240e-01],\n",
              "       [7.760e+00, 2.454e+01, 4.792e+01, ..., 0.000e+00, 2.871e-01,\n",
              "        7.039e-02]])"
            ]
          },
          "metadata": {},
          "execution_count": 18
        }
      ]
    },
    {
      "cell_type": "code",
      "metadata": {
        "colab": {
          "base_uri": "https://localhost:8080/"
        },
        "id": "yDKW0n7UeYDf",
        "outputId": "41b0d61b-acbf-49ef-c34f-34bb6d0b8b55"
      },
      "source": [
        "label = data['target']\n",
        "label"
      ],
      "execution_count": 16,
      "outputs": [
        {
          "output_type": "execute_result",
          "data": {
            "text/plain": [
              "array([0, 0, 0, 0, 0, 0, 0, 0, 0, 0, 0, 0, 0, 0, 0, 0, 0, 0, 0, 1, 1, 1,\n",
              "       0, 0, 0, 0, 0, 0, 0, 0, 0, 0, 0, 0, 0, 0, 0, 1, 0, 0, 0, 0, 0, 0,\n",
              "       0, 0, 1, 0, 1, 1, 1, 1, 1, 0, 0, 1, 0, 0, 1, 1, 1, 1, 0, 1, 0, 0,\n",
              "       1, 1, 1, 1, 0, 1, 0, 0, 1, 0, 1, 0, 0, 1, 1, 1, 0, 0, 1, 0, 0, 0,\n",
              "       1, 1, 1, 0, 1, 1, 0, 0, 1, 1, 1, 0, 0, 1, 1, 1, 1, 0, 1, 1, 0, 1,\n",
              "       1, 1, 1, 1, 1, 1, 1, 0, 0, 0, 1, 0, 0, 1, 1, 1, 0, 0, 1, 0, 1, 0,\n",
              "       0, 1, 0, 0, 1, 1, 0, 1, 1, 0, 1, 1, 1, 1, 0, 1, 1, 1, 1, 1, 1, 1,\n",
              "       1, 1, 0, 1, 1, 1, 1, 0, 0, 1, 0, 1, 1, 0, 0, 1, 1, 0, 0, 1, 1, 1,\n",
              "       1, 0, 1, 1, 0, 0, 0, 1, 0, 1, 0, 1, 1, 1, 0, 1, 1, 0, 0, 1, 0, 0,\n",
              "       0, 0, 1, 0, 0, 0, 1, 0, 1, 0, 1, 1, 0, 1, 0, 0, 0, 0, 1, 1, 0, 0,\n",
              "       1, 1, 1, 0, 1, 1, 1, 1, 1, 0, 0, 1, 1, 0, 1, 1, 0, 0, 1, 0, 1, 1,\n",
              "       1, 1, 0, 1, 1, 1, 1, 1, 0, 1, 0, 0, 0, 0, 0, 0, 0, 0, 0, 0, 0, 0,\n",
              "       0, 0, 1, 1, 1, 1, 1, 1, 0, 1, 0, 1, 1, 0, 1, 1, 0, 1, 0, 0, 1, 1,\n",
              "       1, 1, 1, 1, 1, 1, 1, 1, 1, 1, 1, 0, 1, 1, 0, 1, 0, 1, 1, 1, 1, 1,\n",
              "       1, 1, 1, 1, 1, 1, 1, 1, 1, 0, 1, 1, 1, 0, 1, 0, 1, 1, 1, 1, 0, 0,\n",
              "       0, 1, 1, 1, 1, 0, 1, 0, 1, 0, 1, 1, 1, 0, 1, 1, 1, 1, 1, 1, 1, 0,\n",
              "       0, 0, 1, 1, 1, 1, 1, 1, 1, 1, 1, 1, 1, 0, 0, 1, 0, 0, 0, 1, 0, 0,\n",
              "       1, 1, 1, 1, 1, 0, 1, 1, 1, 1, 1, 0, 1, 1, 1, 0, 1, 1, 0, 0, 1, 1,\n",
              "       1, 1, 1, 1, 0, 1, 1, 1, 1, 1, 1, 1, 0, 1, 1, 1, 1, 1, 0, 1, 1, 0,\n",
              "       1, 1, 1, 1, 1, 1, 1, 1, 1, 1, 1, 1, 0, 1, 0, 0, 1, 0, 1, 1, 1, 1,\n",
              "       1, 0, 1, 1, 0, 1, 0, 1, 1, 0, 1, 0, 1, 1, 1, 1, 1, 1, 1, 1, 0, 0,\n",
              "       1, 1, 1, 1, 1, 1, 0, 1, 1, 1, 1, 1, 1, 1, 1, 1, 1, 0, 1, 1, 1, 1,\n",
              "       1, 1, 1, 0, 1, 0, 1, 1, 0, 1, 1, 1, 1, 1, 0, 0, 1, 0, 1, 0, 1, 1,\n",
              "       1, 1, 1, 0, 1, 1, 0, 1, 0, 1, 0, 0, 1, 1, 1, 0, 1, 1, 1, 1, 1, 1,\n",
              "       1, 1, 1, 1, 1, 0, 1, 0, 0, 1, 1, 1, 1, 1, 1, 1, 1, 1, 1, 1, 1, 1,\n",
              "       1, 1, 1, 1, 1, 1, 1, 1, 1, 1, 1, 1, 0, 0, 0, 0, 0, 0, 1])"
            ]
          },
          "metadata": {},
          "execution_count": 16
        }
      ]
    },
    {
      "cell_type": "code",
      "metadata": {
        "id": "M3563_6webr7"
      },
      "source": [
        "scale = StandardScaler()\n",
        "feature = scale.fit_transform(feature)"
      ],
      "execution_count": 20,
      "outputs": []
    },
    {
      "cell_type": "code",
      "metadata": {
        "colab": {
          "base_uri": "https://localhost:8080/"
        },
        "id": "rm1CJ9tEfH2d",
        "outputId": "afc44048-810c-4ace-d99c-1652bc3ce238"
      },
      "source": [
        "feature"
      ],
      "execution_count": 21,
      "outputs": [
        {
          "output_type": "execute_result",
          "data": {
            "text/plain": [
              "array([[ 1.09706398, -2.07333501,  1.26993369, ...,  2.29607613,\n",
              "         2.75062224,  1.93701461],\n",
              "       [ 1.82982061, -0.35363241,  1.68595471, ...,  1.0870843 ,\n",
              "        -0.24388967,  0.28118999],\n",
              "       [ 1.57988811,  0.45618695,  1.56650313, ...,  1.95500035,\n",
              "         1.152255  ,  0.20139121],\n",
              "       ...,\n",
              "       [ 0.70228425,  2.0455738 ,  0.67267578, ...,  0.41406869,\n",
              "        -1.10454895, -0.31840916],\n",
              "       [ 1.83834103,  2.33645719,  1.98252415, ...,  2.28998549,\n",
              "         1.91908301,  2.21963528],\n",
              "       [-1.80840125,  1.22179204, -1.81438851, ..., -1.74506282,\n",
              "        -0.04813821, -0.75120669]])"
            ]
          },
          "metadata": {},
          "execution_count": 21
        }
      ]
    },
    {
      "cell_type": "code",
      "metadata": {
        "id": "IHtsVys2fNaW"
      },
      "source": [
        "df_ft = pd.DataFrame(feature, columns = data['feature_names'])\n",
        "df_lab = pd.DataFrame(label, columns = ['label'])\n",
        "df = pd.concat([df_ft, df_lab], axis=1)\n",
        "df = df.sample(frac = 1)\n",
        "\n",
        "feature = df.values[ :, : 30]\n",
        "label = df.values[: , 30: ]"
      ],
      "execution_count": 25,
      "outputs": []
    },
    {
      "cell_type": "code",
      "metadata": {
        "colab": {
          "base_uri": "https://localhost:8080/",
          "height": 469
        },
        "id": "qdnFVg6agNM1",
        "outputId": "749bdb98-6f2b-45ef-be05-ced849f7687d"
      },
      "source": [
        "df"
      ],
      "execution_count": 26,
      "outputs": [
        {
          "output_type": "execute_result",
          "data": {
            "text/html": [
              "<div>\n",
              "<style scoped>\n",
              "    .dataframe tbody tr th:only-of-type {\n",
              "        vertical-align: middle;\n",
              "    }\n",
              "\n",
              "    .dataframe tbody tr th {\n",
              "        vertical-align: top;\n",
              "    }\n",
              "\n",
              "    .dataframe thead th {\n",
              "        text-align: right;\n",
              "    }\n",
              "</style>\n",
              "<table border=\"1\" class=\"dataframe\">\n",
              "  <thead>\n",
              "    <tr style=\"text-align: right;\">\n",
              "      <th></th>\n",
              "      <th>mean radius</th>\n",
              "      <th>mean texture</th>\n",
              "      <th>mean perimeter</th>\n",
              "      <th>mean area</th>\n",
              "      <th>mean smoothness</th>\n",
              "      <th>mean compactness</th>\n",
              "      <th>mean concavity</th>\n",
              "      <th>mean concave points</th>\n",
              "      <th>mean symmetry</th>\n",
              "      <th>mean fractal dimension</th>\n",
              "      <th>radius error</th>\n",
              "      <th>texture error</th>\n",
              "      <th>perimeter error</th>\n",
              "      <th>area error</th>\n",
              "      <th>smoothness error</th>\n",
              "      <th>compactness error</th>\n",
              "      <th>concavity error</th>\n",
              "      <th>concave points error</th>\n",
              "      <th>symmetry error</th>\n",
              "      <th>fractal dimension error</th>\n",
              "      <th>worst radius</th>\n",
              "      <th>worst texture</th>\n",
              "      <th>worst perimeter</th>\n",
              "      <th>worst area</th>\n",
              "      <th>worst smoothness</th>\n",
              "      <th>worst compactness</th>\n",
              "      <th>worst concavity</th>\n",
              "      <th>worst concave points</th>\n",
              "      <th>worst symmetry</th>\n",
              "      <th>worst fractal dimension</th>\n",
              "      <th>label</th>\n",
              "    </tr>\n",
              "  </thead>\n",
              "  <tbody>\n",
              "    <tr>\n",
              "      <th>173</th>\n",
              "      <td>-0.865474</td>\n",
              "      <td>-1.065715</td>\n",
              "      <td>-0.896259</td>\n",
              "      <td>-0.802575</td>\n",
              "      <td>0.301721</td>\n",
              "      <td>-0.889033</td>\n",
              "      <td>-0.818199</td>\n",
              "      <td>-0.595561</td>\n",
              "      <td>-0.896740</td>\n",
              "      <td>0.551787</td>\n",
              "      <td>-0.714162</td>\n",
              "      <td>1.067100</td>\n",
              "      <td>-0.737130</td>\n",
              "      <td>-0.467692</td>\n",
              "      <td>2.639781</td>\n",
              "      <td>-0.238544</td>\n",
              "      <td>-0.575729</td>\n",
              "      <td>0.654332</td>\n",
              "      <td>1.244409</td>\n",
              "      <td>0.374505</td>\n",
              "      <td>-1.018678</td>\n",
              "      <td>-1.442344</td>\n",
              "      <td>-1.049987</td>\n",
              "      <td>-0.850976</td>\n",
              "      <td>-0.472051</td>\n",
              "      <td>-1.093302</td>\n",
              "      <td>-1.116904</td>\n",
              "      <td>-1.089406</td>\n",
              "      <td>-1.615768</td>\n",
              "      <td>-0.599367</td>\n",
              "      <td>1</td>\n",
              "    </tr>\n",
              "    <tr>\n",
              "      <th>559</th>\n",
              "      <td>-0.743348</td>\n",
              "      <td>1.079841</td>\n",
              "      <td>-0.718729</td>\n",
              "      <td>-0.714976</td>\n",
              "      <td>-0.266890</td>\n",
              "      <td>-0.042470</td>\n",
              "      <td>0.281240</td>\n",
              "      <td>-0.202977</td>\n",
              "      <td>-1.546608</td>\n",
              "      <td>0.411444</td>\n",
              "      <td>-0.600472</td>\n",
              "      <td>3.061064</td>\n",
              "      <td>-0.460408</td>\n",
              "      <td>-0.514116</td>\n",
              "      <td>0.386356</td>\n",
              "      <td>0.242665</td>\n",
              "      <td>0.845049</td>\n",
              "      <td>0.141749</td>\n",
              "      <td>-0.685583</td>\n",
              "      <td>0.356727</td>\n",
              "      <td>-0.784675</td>\n",
              "      <td>1.869899</td>\n",
              "      <td>-0.744086</td>\n",
              "      <td>-0.714386</td>\n",
              "      <td>-0.112597</td>\n",
              "      <td>-0.016317</td>\n",
              "      <td>0.435670</td>\n",
              "      <td>-0.275239</td>\n",
              "      <td>-1.276034</td>\n",
              "      <td>0.186983</td>\n",
              "      <td>1</td>\n",
              "    </tr>\n",
              "    <tr>\n",
              "      <th>330</th>\n",
              "      <td>0.540396</td>\n",
              "      <td>-0.879550</td>\n",
              "      <td>0.569700</td>\n",
              "      <td>0.393370</td>\n",
              "      <td>-0.103210</td>\n",
              "      <td>0.620832</td>\n",
              "      <td>0.396746</td>\n",
              "      <td>0.554335</td>\n",
              "      <td>-0.108136</td>\n",
              "      <td>-0.430613</td>\n",
              "      <td>-0.245686</td>\n",
              "      <td>-0.851387</td>\n",
              "      <td>-0.117352</td>\n",
              "      <td>-0.155488</td>\n",
              "      <td>-0.400676</td>\n",
              "      <td>0.389654</td>\n",
              "      <td>0.174283</td>\n",
              "      <td>0.453192</td>\n",
              "      <td>-0.711009</td>\n",
              "      <td>-0.254905</td>\n",
              "      <td>0.515803</td>\n",
              "      <td>-0.602070</td>\n",
              "      <td>0.507515</td>\n",
              "      <td>0.332978</td>\n",
              "      <td>0.487955</td>\n",
              "      <td>1.231153</td>\n",
              "      <td>1.071822</td>\n",
              "      <td>1.271326</td>\n",
              "      <td>0.191293</td>\n",
              "      <td>0.404213</td>\n",
              "      <td>0</td>\n",
              "    </tr>\n",
              "    <tr>\n",
              "      <th>326</th>\n",
              "      <td>-0.004911</td>\n",
              "      <td>-1.491568</td>\n",
              "      <td>-0.079869</td>\n",
              "      <td>-0.109183</td>\n",
              "      <td>-0.232731</td>\n",
              "      <td>-0.971851</td>\n",
              "      <td>-0.893278</td>\n",
              "      <td>-0.556870</td>\n",
              "      <td>-1.601372</td>\n",
              "      <td>-0.821872</td>\n",
              "      <td>-0.534423</td>\n",
              "      <td>-0.246485</td>\n",
              "      <td>-0.647529</td>\n",
              "      <td>-0.361204</td>\n",
              "      <td>-0.116331</td>\n",
              "      <td>-0.791292</td>\n",
              "      <td>-0.867942</td>\n",
              "      <td>-0.838484</td>\n",
              "      <td>-0.772759</td>\n",
              "      <td>-0.498877</td>\n",
              "      <td>-0.153073</td>\n",
              "      <td>-1.250188</td>\n",
              "      <td>-0.263939</td>\n",
              "      <td>-0.229730</td>\n",
              "      <td>-0.187118</td>\n",
              "      <td>-0.912002</td>\n",
              "      <td>-1.051226</td>\n",
              "      <td>-0.848216</td>\n",
              "      <td>-1.295447</td>\n",
              "      <td>-0.726824</td>\n",
              "      <td>1</td>\n",
              "    </tr>\n",
              "    <tr>\n",
              "      <th>406</th>\n",
              "      <td>0.571638</td>\n",
              "      <td>-1.030809</td>\n",
              "      <td>0.507915</td>\n",
              "      <td>0.412710</td>\n",
              "      <td>-0.100363</td>\n",
              "      <td>-0.366351</td>\n",
              "      <td>-0.424349</td>\n",
              "      <td>-0.093868</td>\n",
              "      <td>-0.279730</td>\n",
              "      <td>-0.573791</td>\n",
              "      <td>-0.600833</td>\n",
              "      <td>-1.051691</td>\n",
              "      <td>-0.562879</td>\n",
              "      <td>-0.407187</td>\n",
              "      <td>-1.027701</td>\n",
              "      <td>-0.727578</td>\n",
              "      <td>-0.450396</td>\n",
              "      <td>-0.494600</td>\n",
              "      <td>-0.671053</td>\n",
              "      <td>-0.822282</td>\n",
              "      <td>0.298367</td>\n",
              "      <td>-0.992895</td>\n",
              "      <td>0.257314</td>\n",
              "      <td>0.118337</td>\n",
              "      <td>-0.515887</td>\n",
              "      <td>-0.522048</td>\n",
              "      <td>-0.197603</td>\n",
              "      <td>-0.025980</td>\n",
              "      <td>-0.198592</td>\n",
              "      <td>-0.766169</td>\n",
              "      <td>1</td>\n",
              "    </tr>\n",
              "    <tr>\n",
              "      <th>...</th>\n",
              "      <td>...</td>\n",
              "      <td>...</td>\n",
              "      <td>...</td>\n",
              "      <td>...</td>\n",
              "      <td>...</td>\n",
              "      <td>...</td>\n",
              "      <td>...</td>\n",
              "      <td>...</td>\n",
              "      <td>...</td>\n",
              "      <td>...</td>\n",
              "      <td>...</td>\n",
              "      <td>...</td>\n",
              "      <td>...</td>\n",
              "      <td>...</td>\n",
              "      <td>...</td>\n",
              "      <td>...</td>\n",
              "      <td>...</td>\n",
              "      <td>...</td>\n",
              "      <td>...</td>\n",
              "      <td>...</td>\n",
              "      <td>...</td>\n",
              "      <td>...</td>\n",
              "      <td>...</td>\n",
              "      <td>...</td>\n",
              "      <td>...</td>\n",
              "      <td>...</td>\n",
              "      <td>...</td>\n",
              "      <td>...</td>\n",
              "      <td>...</td>\n",
              "      <td>...</td>\n",
              "      <td>...</td>\n",
              "    </tr>\n",
              "    <tr>\n",
              "      <th>125</th>\n",
              "      <td>-0.078755</td>\n",
              "      <td>-0.483948</td>\n",
              "      <td>-0.145362</td>\n",
              "      <td>-0.188249</td>\n",
              "      <td>-0.605638</td>\n",
              "      <td>-0.814553</td>\n",
              "      <td>-0.936592</td>\n",
              "      <td>-0.967510</td>\n",
              "      <td>-0.721494</td>\n",
              "      <td>-0.552527</td>\n",
              "      <td>-0.673739</td>\n",
              "      <td>-0.654531</td>\n",
              "      <td>-0.678716</td>\n",
              "      <td>-0.493434</td>\n",
              "      <td>-0.814026</td>\n",
              "      <td>-0.911510</td>\n",
              "      <td>-0.754877</td>\n",
              "      <td>-1.132570</td>\n",
              "      <td>-0.977382</td>\n",
              "      <td>-0.789374</td>\n",
              "      <td>-0.161357</td>\n",
              "      <td>-0.341520</td>\n",
              "      <td>-0.207346</td>\n",
              "      <td>-0.271919</td>\n",
              "      <td>-0.730683</td>\n",
              "      <td>-0.758692</td>\n",
              "      <td>-0.916512</td>\n",
              "      <td>-0.967897</td>\n",
              "      <td>-0.868353</td>\n",
              "      <td>-0.671962</td>\n",
              "      <td>1</td>\n",
              "    </tr>\n",
              "    <tr>\n",
              "      <th>18</th>\n",
              "      <td>1.613970</td>\n",
              "      <td>0.665623</td>\n",
              "      <td>1.566503</td>\n",
              "      <td>1.720997</td>\n",
              "      <td>0.138753</td>\n",
              "      <td>-0.031099</td>\n",
              "      <td>0.742007</td>\n",
              "      <td>1.188093</td>\n",
              "      <td>-0.838325</td>\n",
              "      <td>-1.254241</td>\n",
              "      <td>1.274152</td>\n",
              "      <td>-0.362603</td>\n",
              "      <td>1.484567</td>\n",
              "      <td>1.585507</td>\n",
              "      <td>-0.182334</td>\n",
              "      <td>-0.365972</td>\n",
              "      <td>0.066854</td>\n",
              "      <td>0.553762</td>\n",
              "      <td>-0.845406</td>\n",
              "      <td>-0.680060</td>\n",
              "      <td>2.288430</td>\n",
              "      <td>0.847240</td>\n",
              "      <td>2.369129</td>\n",
              "      <td>2.667486</td>\n",
              "      <td>0.825491</td>\n",
              "      <td>0.386359</td>\n",
              "      <td>1.271399</td>\n",
              "      <td>1.891049</td>\n",
              "      <td>-0.214770</td>\n",
              "      <td>-0.432012</td>\n",
              "      <td>0</td>\n",
              "    </tr>\n",
              "    <tr>\n",
              "      <th>459</th>\n",
              "      <td>-1.241793</td>\n",
              "      <td>2.073499</td>\n",
              "      <td>-1.247611</td>\n",
              "      <td>-1.035222</td>\n",
              "      <td>-1.175673</td>\n",
              "      <td>-1.100721</td>\n",
              "      <td>-0.921401</td>\n",
              "      <td>-0.992788</td>\n",
              "      <td>-0.695938</td>\n",
              "      <td>-0.464635</td>\n",
              "      <td>-0.819551</td>\n",
              "      <td>0.853008</td>\n",
              "      <td>-0.803464</td>\n",
              "      <td>-0.639305</td>\n",
              "      <td>-0.150999</td>\n",
              "      <td>-0.714164</td>\n",
              "      <td>-0.576724</td>\n",
              "      <td>-0.923320</td>\n",
              "      <td>-0.581455</td>\n",
              "      <td>-0.577553</td>\n",
              "      <td>-1.159494</td>\n",
              "      <td>1.830816</td>\n",
              "      <td>-1.168535</td>\n",
              "      <td>-0.932895</td>\n",
              "      <td>-0.936711</td>\n",
              "      <td>-0.912002</td>\n",
              "      <td>-0.960889</td>\n",
              "      <td>-1.004137</td>\n",
              "      <td>-0.937918</td>\n",
              "      <td>-0.655891</td>\n",
              "      <td>1</td>\n",
              "    </tr>\n",
              "    <tr>\n",
              "      <th>532</th>\n",
              "      <td>-0.127037</td>\n",
              "      <td>-0.688730</td>\n",
              "      <td>-0.173371</td>\n",
              "      <td>-0.225791</td>\n",
              "      <td>-0.255504</td>\n",
              "      <td>-0.602486</td>\n",
              "      <td>-0.894910</td>\n",
              "      <td>-0.776893</td>\n",
              "      <td>-0.659428</td>\n",
              "      <td>-0.176862</td>\n",
              "      <td>-0.723546</td>\n",
              "      <td>-1.336724</td>\n",
              "      <td>-0.739110</td>\n",
              "      <td>-0.507955</td>\n",
              "      <td>-1.071036</td>\n",
              "      <td>-1.019992</td>\n",
              "      <td>-0.822815</td>\n",
              "      <td>-1.089909</td>\n",
              "      <td>-1.211063</td>\n",
              "      <td>-0.793535</td>\n",
              "      <td>-0.086807</td>\n",
              "      <td>-0.891932</td>\n",
              "      <td>-0.168624</td>\n",
              "      <td>-0.188419</td>\n",
              "      <td>-0.261639</td>\n",
              "      <td>-0.622558</td>\n",
              "      <td>-0.727249</td>\n",
              "      <td>-0.419740</td>\n",
              "      <td>-0.153294</td>\n",
              "      <td>-0.339467</td>\n",
              "      <td>1</td>\n",
              "    </tr>\n",
              "    <tr>\n",
              "      <th>551</th>\n",
              "      <td>-0.851273</td>\n",
              "      <td>0.733108</td>\n",
              "      <td>-0.843535</td>\n",
              "      <td>-0.786363</td>\n",
              "      <td>-0.049836</td>\n",
              "      <td>-0.424532</td>\n",
              "      <td>-0.509221</td>\n",
              "      <td>-0.679649</td>\n",
              "      <td>0.797298</td>\n",
              "      <td>0.385927</td>\n",
              "      <td>-0.451772</td>\n",
              "      <td>0.453852</td>\n",
              "      <td>-0.431696</td>\n",
              "      <td>-0.494754</td>\n",
              "      <td>-1.182041</td>\n",
              "      <td>0.281228</td>\n",
              "      <td>0.084759</td>\n",
              "      <td>-0.252420</td>\n",
              "      <td>1.038575</td>\n",
              "      <td>0.351054</td>\n",
              "      <td>-0.879933</td>\n",
              "      <td>0.420589</td>\n",
              "      <td>-0.877527</td>\n",
              "      <td>-0.780484</td>\n",
              "      <td>-1.037534</td>\n",
              "      <td>-0.483880</td>\n",
              "      <td>-0.555498</td>\n",
              "      <td>-0.768581</td>\n",
              "      <td>0.433960</td>\n",
              "      <td>-0.200928</td>\n",
              "      <td>1</td>\n",
              "    </tr>\n",
              "  </tbody>\n",
              "</table>\n",
              "<p>569 rows × 31 columns</p>\n",
              "</div>"
            ],
            "text/plain": [
              "     mean radius  mean texture  ...  worst fractal dimension  label\n",
              "173    -0.865474     -1.065715  ...                -0.599367      1\n",
              "559    -0.743348      1.079841  ...                 0.186983      1\n",
              "330     0.540396     -0.879550  ...                 0.404213      0\n",
              "326    -0.004911     -1.491568  ...                -0.726824      1\n",
              "406     0.571638     -1.030809  ...                -0.766169      1\n",
              "..           ...           ...  ...                      ...    ...\n",
              "125    -0.078755     -0.483948  ...                -0.671962      1\n",
              "18      1.613970      0.665623  ...                -0.432012      0\n",
              "459    -1.241793      2.073499  ...                -0.655891      1\n",
              "532    -0.127037     -0.688730  ...                -0.339467      1\n",
              "551    -0.851273      0.733108  ...                -0.200928      1\n",
              "\n",
              "[569 rows x 31 columns]"
            ]
          },
          "metadata": {},
          "execution_count": 26
        }
      ]
    },
    {
      "cell_type": "code",
      "metadata": {
        "id": "mtpWh0PTgY-I"
      },
      "source": [
        "X_train, X_rem, y_train, y_rem = train_test_split(feature, label, train_size=0.8)\n",
        "X_val, X_test, y_val, y_test = train_test_split(X_rem, y_rem, train_size=0.5)"
      ],
      "execution_count": 28,
      "outputs": []
    },
    {
      "cell_type": "code",
      "metadata": {
        "colab": {
          "base_uri": "https://localhost:8080/"
        },
        "id": "w6IbHGqEhIoY",
        "outputId": "c5f57983-0f7e-4e57-bdac-c6a8e0d2ccdd"
      },
      "source": [
        "model = Sequential()\n",
        "\n",
        "model.add(Dense(15, activation='relu', input_dim=30))\n",
        "model.add(Dense(10, activation='relu'))\n",
        "model.add(Dense(5, activation='relu'))\n",
        "model.add(Dense(1, activation='sigmoid'))\n",
        "\n",
        "model.compile(loss='binary_crossentropy', optimizer='adam', metrics=['accuracy'])\n",
        "\n",
        "model.fit(X_train, y_train, epochs=10, batch_size=2, validation_data=(X_val, y_val))\n"
      ],
      "execution_count": 34,
      "outputs": [
        {
          "output_type": "stream",
          "name": "stdout",
          "text": [
            "Epoch 1/10\n",
            "228/228 [==============================] - 1s 2ms/step - loss: 0.4144 - accuracy: 0.8286 - val_loss: 0.2617 - val_accuracy: 0.9298\n",
            "Epoch 2/10\n",
            "228/228 [==============================] - 0s 2ms/step - loss: 0.1640 - accuracy: 0.9560 - val_loss: 0.2375 - val_accuracy: 0.9298\n",
            "Epoch 3/10\n",
            "228/228 [==============================] - 0s 2ms/step - loss: 0.0872 - accuracy: 0.9714 - val_loss: 0.2453 - val_accuracy: 0.9298\n",
            "Epoch 4/10\n",
            "228/228 [==============================] - 0s 2ms/step - loss: 0.0670 - accuracy: 0.9780 - val_loss: 0.2659 - val_accuracy: 0.9298\n",
            "Epoch 5/10\n",
            "228/228 [==============================] - 0s 2ms/step - loss: 0.0534 - accuracy: 0.9846 - val_loss: 0.2866 - val_accuracy: 0.9474\n",
            "Epoch 6/10\n",
            "228/228 [==============================] - 0s 1ms/step - loss: 0.0464 - accuracy: 0.9868 - val_loss: 0.2934 - val_accuracy: 0.9474\n",
            "Epoch 7/10\n",
            "228/228 [==============================] - 0s 2ms/step - loss: 0.0388 - accuracy: 0.9890 - val_loss: 0.2845 - val_accuracy: 0.9474\n",
            "Epoch 8/10\n",
            "228/228 [==============================] - 0s 2ms/step - loss: 0.0327 - accuracy: 0.9934 - val_loss: 0.2904 - val_accuracy: 0.9474\n",
            "Epoch 9/10\n",
            "228/228 [==============================] - 0s 2ms/step - loss: 0.0276 - accuracy: 0.9934 - val_loss: 0.3003 - val_accuracy: 0.9474\n",
            "Epoch 10/10\n",
            "228/228 [==============================] - 0s 1ms/step - loss: 0.0230 - accuracy: 0.9934 - val_loss: 0.3524 - val_accuracy: 0.9474\n"
          ]
        },
        {
          "output_type": "execute_result",
          "data": {
            "text/plain": [
              "<keras.callbacks.History at 0x7f6e0b5d9250>"
            ]
          },
          "metadata": {},
          "execution_count": 34
        }
      ]
    },
    {
      "cell_type": "code",
      "metadata": {
        "colab": {
          "base_uri": "https://localhost:8080/"
        },
        "id": "Z64W81kgiZcG",
        "outputId": "cb9056d6-cdbc-4095-f3fa-63cb7df3000d"
      },
      "source": [
        "model.evaluate(X_test, y_test)"
      ],
      "execution_count": 35,
      "outputs": [
        {
          "output_type": "stream",
          "name": "stdout",
          "text": [
            "2/2 [==============================] - 0s 6ms/step - loss: 0.0011 - accuracy: 1.0000\n"
          ]
        },
        {
          "output_type": "execute_result",
          "data": {
            "text/plain": [
              "[0.0010891385609284043, 1.0]"
            ]
          },
          "metadata": {},
          "execution_count": 35
        }
      ]
    }
  ]
}